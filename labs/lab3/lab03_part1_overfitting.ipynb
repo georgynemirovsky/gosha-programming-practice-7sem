{
 "cells": [
  {
   "cell_type": "markdown",
   "metadata": {
    "id": "NFmOh482SyEF"
   },
   "source": [
    "## Lab 3\n",
    "### Part 1: Dealing with overfitting"
   ]
  },
  {
   "cell_type": "markdown",
   "metadata": {
    "id": "AjzAuO3oSvsI"
   },
   "source": [
    "Today we work with [Fashion-MNIST dataset](https://github.com/zalandoresearch/fashion-mnist) (*hint: it is available in `torchvision`*).\n",
    "\n",
    "Your goal for today:\n",
    "1. Train a FC (fully-connected) network that achieves >= 0.885 test accuracy.\n",
    "2. Cause considerable overfitting by modifying the network (e.g. increasing the number of network parameters and/or layers) and demonstrate in in the appropriate way (e.g. plot loss and accurasy on train and validation set w.r.t. network complexity).\n",
    "3. Try to deal with overfitting (at least partially) by using regularization techniques (Dropout/Batchnorm/...) and demonstrate the results.\n",
    "\n",
    "__Please, write a small report describing your ideas, tries and achieved results in the end of this file.__\n",
    "\n",
    "*Note*: Tasks 2 and 3 are interrelated, in task 3 your goal is to make the network from task 2 less prone to overfitting. Task 1 is independent from 2 and 3.\n",
    "\n",
    "*Note 2*: We recomment to use Google Colab or other machine with GPU acceleration."
   ]
  },
  {
   "cell_type": "code",
   "execution_count": 82,
   "metadata": {
    "id": "_KBld6VOSwhW"
   },
   "outputs": [],
   "source": [
    "import torch\n",
    "import torch.nn as nn\n",
    "import torchvision\n",
    "import torchvision.transforms as transforms\n",
    "import torchsummary\n",
    "from IPython.display import clear_output\n",
    "from matplotlib import pyplot as plt\n",
    "from matplotlib.pyplot import figure\n",
    "import numpy as np\n",
    "import os\n",
    "\n",
    "\n",
    "device = \"cuda:0\" if torch.cuda.is_available() else \"cpu\""
   ]
  },
  {
   "cell_type": "code",
   "execution_count": 83,
   "metadata": {
    "colab": {
     "base_uri": "https://localhost:8080/"
    },
    "id": "EdLOG0XqS_g5",
    "outputId": "a0d43a1e-9983-4f4f-a915-0ee68480490b"
   },
   "outputs": [
    {
     "name": "stdout",
     "output_type": "stream",
     "text": [
      "Directory fmnist already exists!\n"
     ]
    }
   ],
   "source": [
    "# Technical function\n",
    "def mkdir(path):\n",
    "    if not os.path.exists(root_path):\n",
    "        os.mkdir(root_path)\n",
    "        print(\"Directory\", path, \"is created!\")\n",
    "    else:\n",
    "        print(\"Directory\", path, \"already exists!\")\n",
    "\n",
    "\n",
    "root_path = \"fmnist\"\n",
    "mkdir(root_path)"
   ]
  },
  {
   "cell_type": "code",
   "execution_count": 84,
   "metadata": {
    "colab": {
     "base_uri": "https://localhost:8080/"
    },
    "id": "qt6LE7XaTDT9",
    "outputId": "44d4d827-73a5-46a3-b55a-8403c4984b92"
   },
   "outputs": [],
   "source": [
    "download = True\n",
    "train_transform = transforms.ToTensor()\n",
    "test_transform = transforms.ToTensor()\n",
    "transforms.Compose((transforms.ToTensor()))\n",
    "\n",
    "\n",
    "fmnist_dataset_train = torchvision.datasets.FashionMNIST(\n",
    "    root_path, train=True, transform=train_transform, target_transform=None, download=download\n",
    ")\n",
    "fmnist_dataset_test = torchvision.datasets.FashionMNIST(\n",
    "    root_path, train=False, transform=test_transform, target_transform=None, download=download\n",
    ")"
   ]
  },
  {
   "cell_type": "code",
   "execution_count": 85,
   "metadata": {
    "id": "71YP0SPwTIxD"
   },
   "outputs": [],
   "source": [
    "train_loader = torch.utils.data.DataLoader(\n",
    "    fmnist_dataset_train, batch_size=128, shuffle=True, num_workers=2\n",
    ")\n",
    "test_loader = torch.utils.data.DataLoader(\n",
    "    fmnist_dataset_test, batch_size=256, shuffle=False, num_workers=2\n",
    ")"
   ]
  },
  {
   "cell_type": "code",
   "execution_count": 86,
   "metadata": {
    "colab": {
     "base_uri": "https://localhost:8080/"
    },
    "id": "v_YFmF7NTWrQ",
    "outputId": "72613861-49b1-4b08-ea0e-8bc1e86a9b02"
   },
   "outputs": [
    {
     "name": "stdout",
     "output_type": "stream",
     "text": [
      "60000\n"
     ]
    },
    {
     "data": {
      "text/plain": [
       "10000"
      ]
     },
     "execution_count": 86,
     "metadata": {},
     "output_type": "execute_result"
    }
   ],
   "source": [
    "print(len(fmnist_dataset_train))\n",
    "len(fmnist_dataset_test)"
   ]
  },
  {
   "cell_type": "code",
   "execution_count": 87,
   "metadata": {
    "colab": {
     "base_uri": "https://localhost:8080/"
    },
    "id": "aHca15bOTY4B",
    "outputId": "655fb0e4-c895-4604-8c8f-ad1c1830f576"
   },
   "outputs": [
    {
     "name": "stdout",
     "output_type": "stream",
     "text": [
      "torch.Size([128, 1, 28, 28])\n",
      "torch.Size([128])\n",
      "128\n"
     ]
    }
   ],
   "source": [
    "for img, label in train_loader:\n",
    "    print(img.shape)\n",
    "    #     print(img)\n",
    "    print(label.shape)\n",
    "    print(label.size(0))\n",
    "    break"
   ]
  },
  {
   "cell_type": "markdown",
   "metadata": {
    "id": "b6OOOffHTfX5"
   },
   "source": [
    "### Task 1\n",
    "Train a network that achieves $\\geq 0.885$ test accuracy. It's fine to use only Linear (`nn.Linear`) layers and activations/dropout/batchnorm. Convolutional layers might be a great use, but we will meet them a bit later."
   ]
  },
  {
   "cell_type": "code",
   "execution_count": 88,
   "metadata": {
    "colab": {
     "base_uri": "https://localhost:8080/",
     "height": 106
    },
    "id": "ftpkTjxlTcFx",
    "outputId": "2b56591c-d679-490a-b98c-b27d6110907b"
   },
   "outputs": [],
   "source": [
    "class TinyNeuralNetwork(nn.Module):\n",
    "    def __init__(self, input_shape=28 * 28, num_classes=10, input_channels=1):\n",
    "        super(self.__class__, self).__init__()\n",
    "        self.model = nn.Sequential(\n",
    "            nn.Flatten(),  # This layer converts image into a vector to use Linear layers afterwards\n",
    "            # Your network structure comes here\n",
    "            nn.Linear(input_shape, 200),\n",
    "            nn.BatchNorm1d(200),\n",
    "            nn.ReLU(),\n",
    "            nn.Linear(200, 64),\n",
    "            nn.BatchNorm1d(64),\n",
    "            nn.ReLU(),\n",
    "            nn.Linear(64, num_classes),\n",
    "        )\n",
    "\n",
    "    def forward(self, inp):\n",
    "        out = self.model(inp)\n",
    "        return out"
   ]
  },
  {
   "cell_type": "code",
   "execution_count": 89,
   "metadata": {
    "colab": {
     "base_uri": "https://localhost:8080/"
    },
    "id": "YZ3b6CsxFjwf",
    "outputId": "2ed288bf-0637-4b58-edcd-4a284bdd1c04"
   },
   "outputs": [
    {
     "name": "stdout",
     "output_type": "stream",
     "text": [
      "----------------------------------------------------------------\n",
      "        Layer (type)               Output Shape         Param #\n",
      "================================================================\n",
      "           Flatten-1                  [-1, 784]               0\n",
      "            Linear-2                  [-1, 200]         157,000\n",
      "       BatchNorm1d-3                  [-1, 200]             400\n",
      "              ReLU-4                  [-1, 200]               0\n",
      "            Linear-5                   [-1, 64]          12,864\n",
      "       BatchNorm1d-6                   [-1, 64]             128\n",
      "              ReLU-7                   [-1, 64]               0\n",
      "            Linear-8                   [-1, 10]             650\n",
      "================================================================\n",
      "Total params: 171,042\n",
      "Trainable params: 171,042\n",
      "Non-trainable params: 0\n",
      "----------------------------------------------------------------\n",
      "Input size (MB): 0.00\n",
      "Forward/backward pass size (MB): 0.01\n",
      "Params size (MB): 0.65\n",
      "Estimated Total Size (MB): 0.67\n",
      "----------------------------------------------------------------\n"
     ]
    }
   ],
   "source": [
    "torchsummary.summary(TinyNeuralNetwork().to(device), (28 * 28,))"
   ]
  },
  {
   "cell_type": "markdown",
   "metadata": {
    "id": "544PGKEnjPr5"
   },
   "source": [
    "Your experiments come here:"
   ]
  },
  {
   "cell_type": "code",
   "execution_count": 90,
   "metadata": {},
   "outputs": [],
   "source": [
    "def train_model(model, train_loader, loss_fn, opt, n_epochs: int):\n",
    "    train_loss = []\n",
    "    \n",
    "    for epoch in range(n_epochs):\n",
    "        ep_train_loss = []\n",
    "\n",
    "        model.train(True)\n",
    "        for X_batch, y_batch in train_loader:\n",
    "\n",
    "            X_train, y_train = X_batch.to(device), y_batch.to(device)\n",
    "\n",
    "            model.zero_grad()\n",
    "            out = model(X_train)\n",
    "            loss = loss_fn(out, y_train)\n",
    "            loss.backward()\n",
    "            opt.step()\n",
    "            ep_train_loss.append(loss.item())\n",
    "\n",
    "        print(f'Epoch {epoch + 1} of {n_epochs}')\n",
    "\n",
    "        train_loss += ep_train_loss\n",
    "\n",
    "    return train_loss"
   ]
  },
  {
   "cell_type": "code",
   "execution_count": 91,
   "metadata": {
    "id": "i3POFj90Ti-6"
   },
   "outputs": [
    {
     "name": "stdout",
     "output_type": "stream",
     "text": [
      "Epoch 1 of 10\n",
      "Epoch 2 of 10\n",
      "Epoch 3 of 10\n",
      "Epoch 4 of 10\n",
      "Epoch 5 of 10\n",
      "Epoch 6 of 10\n",
      "Epoch 7 of 10\n",
      "Epoch 8 of 10\n",
      "Epoch 9 of 10\n",
      "Epoch 10 of 10\n"
     ]
    }
   ],
   "source": [
    "model = TinyNeuralNetwork().to(device)\n",
    "opt = optim.Adam(model.parameters())\n",
    "loss_func = nn.CrossEntropyLoss()\n",
    "\n",
    "\n",
    "\n",
    "train_loss = train_model(model, train_loader, loss_func, opt, n_epochs=10)\n",
    "\n"
   ]
  },
  {
   "cell_type": "code",
   "execution_count": 92,
   "metadata": {},
   "outputs": [
    {
     "data": {
      "image/png": "[encoded data removed]",
      "text/plain": [
       "<Figure size 640x480 with 1 Axes>"
      ]
     },
     "metadata": {},
     "output_type": "display_data"
    }
   ],
   "source": [
    "plt.plot(np.arange(len(train_loss)), train_loss)\n",
    "plt.show()"
   ]
  },
  {
   "cell_type": "code",
   "execution_count": 93,
   "metadata": {},
   "outputs": [],
   "source": [
    "def evaluate(model, loader):\n",
    "    right_unsuers = 0\n",
    "    number_of_unsuers = 0\n",
    "    for X_test, y_test in loader:\n",
    "        model.eval()\n",
    "        with torch.no_grad():\n",
    "            _, predicted = torch.max(model(X_test), 1)\n",
    "            right_unsuers += (predicted == y_test).sum().item()\n",
    "    return right_unsuers / len(loader.dataset)"
   ]
  },
  {
   "cell_type": "code",
   "execution_count": 94,
   "metadata": {},
   "outputs": [
    {
     "name": "stdout",
     "output_type": "stream",
     "text": [
      "Train accuracy is: 0.9348833333333333\n",
      "Test accuracy is: 0.8861\n"
     ]
    }
   ],
   "source": [
    "\n",
    "print(\"Train accuracy is:\", evaluate(model, train_loader))\n",
    "print(\"Test accuracy is:\", evaluate(model, test_loader))"
   ]
  },
  {
   "cell_type": "markdown",
   "metadata": {
    "id": "L7ISqkjmCPB1"
   },
   "source": [
    "### Task 2: Overfit it.\n",
    "Build a network that will overfit to this dataset. Demonstrate the overfitting in the appropriate way (e.g. plot loss and accurasy on train and test set w.r.t. network complexity).\n",
    "\n",
    "*Note:* you also might decrease the size of `train` dataset to enforce the overfitting and speed up the computations."
   ]
  },
  {
   "cell_type": "code",
   "execution_count": 147,
   "metadata": {
    "id": "H12uAWiGBwJx"
   },
   "outputs": [],
   "source": [
    "class OverfittingNeuralNetwork(nn.Module):\n",
    "    def __init__(self, input_shape=28 * 28, num_classes=10, input_channels=1):\n",
    "        super(self.__class__, self).__init__()\n",
    "        self.model = nn.Sequential(\n",
    "            nn.Flatten(),  # This layer converts image into a vector to use Linear layers afterwards\n",
    "            nn.Linear(input_shape, 1024),\n",
    "            nn.ReLU(),\n",
    "            nn.Linear(1024, 512),\n",
    "            nn.ReLU(),\n",
    "            nn.Linear(512, 256),\n",
    "            nn.ReLU(),\n",
    "            nn.Linear(256, 128),\n",
    "            nn.ReLU(),\n",
    "            nn.Linear(128, 64),\n",
    "            nn.ReLU(),\n",
    "            nn.Linear(64, 32),\n",
    "            nn.ReLU(),\n",
    "            nn.Linear(32, num_classes)\n",
    "        )\n",
    "\n",
    "    def forward(self, inp):\n",
    "        out = self.model(inp)\n",
    "        return out"
   ]
  },
  {
   "cell_type": "code",
   "execution_count": 148,
   "metadata": {
    "id": "JgXAKCpvCwqH"
   },
   "outputs": [
    {
     "name": "stdout",
     "output_type": "stream",
     "text": [
      "----------------------------------------------------------------\n",
      "        Layer (type)               Output Shape         Param #\n",
      "================================================================\n",
      "           Flatten-1                  [-1, 784]               0\n",
      "            Linear-2                 [-1, 1024]         803,840\n",
      "              ReLU-3                 [-1, 1024]               0\n",
      "            Linear-4                  [-1, 512]         524,800\n",
      "              ReLU-5                  [-1, 512]               0\n",
      "            Linear-6                  [-1, 256]         131,328\n",
      "              ReLU-7                  [-1, 256]               0\n",
      "            Linear-8                  [-1, 128]          32,896\n",
      "              ReLU-9                  [-1, 128]               0\n",
      "           Linear-10                   [-1, 64]           8,256\n",
      "             ReLU-11                   [-1, 64]               0\n",
      "           Linear-12                   [-1, 32]           2,080\n",
      "             ReLU-13                   [-1, 32]               0\n",
      "           Linear-14                   [-1, 10]             330\n",
      "================================================================\n",
      "Total params: 1,503,530\n",
      "Trainable params: 1,503,530\n",
      "Non-trainable params: 0\n",
      "----------------------------------------------------------------\n",
      "Input size (MB): 0.00\n",
      "Forward/backward pass size (MB): 0.04\n",
      "Params size (MB): 5.74\n",
      "Estimated Total Size (MB): 5.78\n",
      "----------------------------------------------------------------\n"
     ]
    }
   ],
   "source": [
    "torchsummary.summary(OverfittingNeuralNetwork().to(device), (28 * 28,))"
   ]
  },
  {
   "cell_type": "code",
   "execution_count": 149,
   "metadata": {},
   "outputs": [],
   "source": [
    "def train_model(model, train_loader, loss_func, opt, n_epochs):\n",
    "    train_losses = []\n",
    "    train_accuracies = []\n",
    "    test_losses = []\n",
    "    test_accuracies = []\n",
    "\n",
    "    for epoch in range(n_epochs):\n",
    "        model.train()\n",
    "        total_loss = 0\n",
    "        correct = 0\n",
    "\n",
    "        for X_batch, y_batch in train_loader:\n",
    "            X_batch, y_batch = X_batch.to(device), y_batch.to(device)\n",
    "            \n",
    "            opt.zero_grad()\n",
    "            out = model(X_batch)\n",
    "            loss = loss_func(out, y_batch)\n",
    "            loss.backward()\n",
    "            opt.step()\n",
    "\n",
    "            total_loss += loss.item()\n",
    "            _, predicted = torch.max(out, 1)\n",
    "            correct += (predicted == y_batch).sum().item()\n",
    "\n",
    "        avg_loss = total_loss / len(train_loader) #средняя ошибка, на определенном числе эпох\n",
    "        accuracy = correct / len(train_loader.dataset) #accuracy тренировки, на определенном числе эпох\n",
    "        train_losses.append(avg_loss)\n",
    "        train_accuracies.append(accuracy)\n",
    "\n",
    "        model.eval()\n",
    "        total_test_loss = 0\n",
    "        correct_test = 0\n",
    "\n",
    "        with torch.no_grad():\n",
    "            for X_batch, y_batch in test_loader:\n",
    "                X_batch, y_batch = X_batch.to(device), y_batch.to(device)\n",
    "                out = model(X_batch)\n",
    "                loss = loss_func(out, y_batch)\n",
    "\n",
    "                total_test_loss += loss.item()\n",
    "                _, predicted = torch.max(out, 1)\n",
    "                correct_test += (predicted == y_batch).sum().item()\n",
    "\n",
    "        avg_test_loss = total_test_loss / len(test_loader) #средняя ошибка, на определенном числе эпох\n",
    "        test_accuracy = correct_test / len(test_loader.dataset) #accuracy теста, на определенном числе эпох\n",
    "        test_losses.append(avg_test_loss)\n",
    "        test_accuracies.append(test_accuracy)\n",
    "\n",
    "        print(f'Epoch {epoch + 1} of {n_epochs}')\n",
    "\n",
    "    return train_losses, train_accuracies, test_losses, test_accuracies\n",
    "\n",
    "model = OverfittingNeuralNetwork().to(device)\n",
    "opt = torch.optim.Adam(model.parameters(), lr=0.001)\n",
    "loss_func = nn.CrossEntropyLoss()\n"
   ]
  },
  {
   "cell_type": "code",
   "execution_count": 150,
   "metadata": {},
   "outputs": [
    {
     "name": "stdout",
     "output_type": "stream",
     "text": [
      "Epoch 1 of 50\n",
      "Epoch 2 of 50\n",
      "Epoch 3 of 50\n",
      "Epoch 4 of 50\n",
      "Epoch 5 of 50\n",
      "Epoch 6 of 50\n",
      "Epoch 7 of 50\n",
      "Epoch 8 of 50\n",
      "Epoch 9 of 50\n",
      "Epoch 10 of 50\n",
      "Epoch 11 of 50\n",
      "Epoch 12 of 50\n",
      "Epoch 13 of 50\n",
      "Epoch 14 of 50\n",
      "Epoch 15 of 50\n",
      "Epoch 16 of 50\n",
      "Epoch 17 of 50\n",
      "Epoch 18 of 50\n",
      "Epoch 19 of 50\n",
      "Epoch 20 of 50\n",
      "Epoch 21 of 50\n",
      "Epoch 22 of 50\n",
      "Epoch 23 of 50\n",
      "Epoch 24 of 50\n",
      "Epoch 25 of 50\n",
      "Epoch 26 of 50\n",
      "Epoch 27 of 50\n",
      "Epoch 28 of 50\n",
      "Epoch 29 of 50\n",
      "Epoch 30 of 50\n",
      "Epoch 31 of 50\n",
      "Epoch 32 of 50\n",
      "Epoch 33 of 50\n",
      "Epoch 34 of 50\n",
      "Epoch 35 of 50\n",
      "Epoch 36 of 50\n",
      "Epoch 37 of 50\n",
      "Epoch 38 of 50\n",
      "Epoch 39 of 50\n",
      "Epoch 40 of 50\n",
      "Epoch 41 of 50\n",
      "Epoch 42 of 50\n",
      "Epoch 43 of 50\n",
      "Epoch 44 of 50\n",
      "Epoch 45 of 50\n",
      "Epoch 46 of 50\n",
      "Epoch 47 of 50\n",
      "Epoch 48 of 50\n",
      "Epoch 49 of 50\n",
      "Epoch 50 of 50\n"
     ]
    }
   ],
   "source": [
    "train_losses, train_accuracies, test_losses, test_accuracies = train_model(model, train_loader, loss_func, opt, n_epochs=50)"
   ]
  },
  {
   "cell_type": "code",
   "execution_count": 151,
   "metadata": {},
   "outputs": [
    {
     "data": {
      "image/png": "[encoded data removed]",
      "text/plain": [
       "<Figure size 1000x400 with 2 Axes>"
      ]
     },
     "metadata": {},
     "output_type": "display_data"
    }
   ],
   "source": [
    "plt.figure(figsize=(10, 4))\n",
    "\n",
    "plt.subplot(1, 2, 1)\n",
    "plt.plot(train_losses, label='Train Loss')\n",
    "plt.plot(test_losses, label='Test Loss')\n",
    "plt.title('Loss')\n",
    "plt.xlabel('Epoch')\n",
    "plt.ylabel('Loss')\n",
    "plt.legend()\n",
    "\n",
    "plt.subplot(1, 2, 2)\n",
    "plt.plot(train_accuracies, label='Train Accuracy')\n",
    "plt.plot(test_accuracies, label='Test Accuracy')\n",
    "plt.title('Accuracy')\n",
    "plt.xlabel('Epoch')\n",
    "plt.ylabel('Accuracy')\n",
    "plt.legend()\n",
    "\n",
    "plt.show()"
   ]
  },
  {
   "cell_type": "markdown",
   "metadata": {},
   "source": [
    "Как видно на графике, ошибка теста начинает сильно расти, в то время как ошибка тренировки стремится к нулю, это переобучение.\n",
    "Так что где-то 10 эпох будет достаточно"
   ]
  },
  {
   "cell_type": "markdown",
   "metadata": {
    "id": "r5-Ruy68Fjwg"
   },
   "source": [
    "### Task 3: Fix it.\n",
    "Fix the overfitted network from the previous step (at least partially) by using regularization techniques (Dropout/Batchnorm/...) and demonstrate the results."
   ]
  },
  {
   "cell_type": "code",
   "execution_count": 157,
   "metadata": {
    "id": "xckLIxyBFjwg"
   },
   "outputs": [],
   "source": [
    "class OverfittingNeuralNetwork(nn.Module):\n",
    "    def __init__(self, input_shape=28 * 28, num_classes=10, input_channels=1):\n",
    "        super(self.__class__, self).__init__()\n",
    "        self.model = nn.Sequential(\n",
    "            nn.Flatten(),  # This layer converts image into a vector to use Linear layers afterwards\n",
    "            nn.Linear(input_shape, 1024),\n",
    "            nn.Dropout(p=0.5),\n",
    "            nn.BatchNorm1d(1024),\n",
    "            nn.ReLU(),\n",
    "            nn.Linear(1024, 512),\n",
    "            nn.Dropout(p=0.5),\n",
    "            nn.BatchNorm1d(512),\n",
    "            nn.ReLU(),\n",
    "            nn.Linear(512, 256),\n",
    "            nn.Dropout(p=0.5),\n",
    "            nn.BatchNorm1d(256),\n",
    "            nn.ReLU(),\n",
    "            nn.Linear(256, 128),\n",
    "            nn.Dropout(p=0.5),\n",
    "            nn.BatchNorm1d(128),\n",
    "            nn.ReLU(),\n",
    "            nn.Linear(128, 64),\n",
    "            nn.Dropout(p=0.5),\n",
    "            nn.BatchNorm1d(64),\n",
    "            nn.ReLU(),\n",
    "            nn.Linear(64, 32),\n",
    "            nn.Dropout(p=0.5),\n",
    "            nn.BatchNorm1d(32),\n",
    "            nn.ReLU(),\n",
    "            nn.Linear(32, num_classes)\n",
    "        )\n",
    "\n",
    "    def forward(self, inp):\n",
    "        out = self.model(inp)\n",
    "        return out"
   ]
  },
  {
   "cell_type": "code",
   "execution_count": 158,
   "metadata": {
    "id": "9G402eGyFjwg"
   },
   "outputs": [
    {
     "name": "stdout",
     "output_type": "stream",
     "text": [
      "----------------------------------------------------------------\n",
      "        Layer (type)               Output Shape         Param #\n",
      "================================================================\n",
      "           Flatten-1                  [-1, 784]               0\n",
      "            Linear-2                  [-1, 128]         100,480\n",
      "           Dropout-3                  [-1, 128]               0\n",
      "       BatchNorm1d-4                  [-1, 128]             256\n",
      "              ReLU-5                  [-1, 128]               0\n",
      "            Linear-6                   [-1, 64]           8,256\n",
      "           Dropout-7                   [-1, 64]               0\n",
      "       BatchNorm1d-8                   [-1, 64]             128\n",
      "              ReLU-9                   [-1, 64]               0\n",
      "           Linear-10                   [-1, 10]             650\n",
      "================================================================\n",
      "Total params: 109,770\n",
      "Trainable params: 109,770\n",
      "Non-trainable params: 0\n",
      "----------------------------------------------------------------\n",
      "Input size (MB): 0.00\n",
      "Forward/backward pass size (MB): 0.01\n",
      "Params size (MB): 0.42\n",
      "Estimated Total Size (MB): 0.43\n",
      "----------------------------------------------------------------\n"
     ]
    }
   ],
   "source": [
    "torchsummary.summary(FixedNeuralNetwork().to(device), (28 * 28,))"
   ]
  },
  {
   "cell_type": "code",
   "execution_count": 159,
   "metadata": {
    "id": "0cHCLBGuFjwg"
   },
   "outputs": [],
   "source": [
    "def train_model(model, train_loader, loss_func, opt, n_epochs):\n",
    "    train_losses = []\n",
    "    train_accuracies = []\n",
    "    test_losses = []\n",
    "    test_accuracies = []\n",
    "\n",
    "    for epoch in range(n_epochs):\n",
    "        model.train()\n",
    "        total_loss = 0\n",
    "        correct = 0\n",
    "\n",
    "        for X_batch, y_batch in train_loader:\n",
    "            X_batch, y_batch = X_batch.to(device), y_batch.to(device)\n",
    "            \n",
    "            opt.zero_grad()\n",
    "            out = model(X_batch)\n",
    "            loss = loss_func(out, y_batch)\n",
    "            loss.backward()\n",
    "            opt.step()\n",
    "\n",
    "            total_loss += loss.item()\n",
    "            _, predicted = torch.max(out, 1)\n",
    "            correct += (predicted == y_batch).sum().item()\n",
    "\n",
    "        avg_loss = total_loss / len(train_loader) #средняя ошибка, на определенном числе эпох\n",
    "        accuracy = correct / len(train_loader.dataset) #accuracy тренировки, на определенном числе эпох\n",
    "        train_losses.append(avg_loss)\n",
    "        train_accuracies.append(accuracy)\n",
    "\n",
    "        model.eval()\n",
    "        total_test_loss = 0\n",
    "        correct_test = 0\n",
    "\n",
    "        with torch.no_grad():\n",
    "            for X_batch, y_batch in test_loader:\n",
    "                X_batch, y_batch = X_batch.to(device), y_batch.to(device)\n",
    "                out = model(X_batch)\n",
    "                loss = loss_func(out, y_batch)\n",
    "\n",
    "                total_test_loss += loss.item()\n",
    "                _, predicted = torch.max(out, 1)\n",
    "                correct_test += (predicted == y_batch).sum().item()\n",
    "\n",
    "        avg_test_loss = total_test_loss / len(test_loader) #средняя ошибка, на определенном числе эпох\n",
    "        test_accuracy = correct_test / len(test_loader.dataset) #accuracy теста, на определенном числе эпох\n",
    "        test_losses.append(avg_test_loss)\n",
    "        test_accuracies.append(test_accuracy)\n",
    "\n",
    "        print(f'Epoch {epoch + 1} of {n_epochs}')\n",
    "\n",
    "    return train_losses, train_accuracies, test_losses, test_accuracies\n",
    "\n",
    "model = OverfittingNeuralNetwork().to(device)\n",
    "opt = torch.optim.Adam(model.parameters(), lr=0.001)\n",
    "loss_func = nn.CrossEntropyLoss()\n"
   ]
  },
  {
   "cell_type": "code",
   "execution_count": 160,
   "metadata": {},
   "outputs": [
    {
     "name": "stdout",
     "output_type": "stream",
     "text": [
      "Epoch 1 of 50\n",
      "Epoch 2 of 50\n",
      "Epoch 3 of 50\n",
      "Epoch 4 of 50\n",
      "Epoch 5 of 50\n",
      "Epoch 6 of 50\n",
      "Epoch 7 of 50\n",
      "Epoch 8 of 50\n",
      "Epoch 9 of 50\n",
      "Epoch 10 of 50\n",
      "Epoch 11 of 50\n",
      "Epoch 12 of 50\n",
      "Epoch 13 of 50\n",
      "Epoch 14 of 50\n",
      "Epoch 15 of 50\n",
      "Epoch 16 of 50\n",
      "Epoch 17 of 50\n",
      "Epoch 18 of 50\n",
      "Epoch 19 of 50\n",
      "Epoch 20 of 50\n",
      "Epoch 21 of 50\n",
      "Epoch 22 of 50\n",
      "Epoch 23 of 50\n",
      "Epoch 24 of 50\n",
      "Epoch 25 of 50\n",
      "Epoch 26 of 50\n",
      "Epoch 27 of 50\n",
      "Epoch 28 of 50\n",
      "Epoch 29 of 50\n",
      "Epoch 30 of 50\n",
      "Epoch 31 of 50\n",
      "Epoch 32 of 50\n",
      "Epoch 33 of 50\n",
      "Epoch 34 of 50\n",
      "Epoch 35 of 50\n",
      "Epoch 36 of 50\n",
      "Epoch 37 of 50\n",
      "Epoch 38 of 50\n",
      "Epoch 39 of 50\n",
      "Epoch 40 of 50\n",
      "Epoch 41 of 50\n",
      "Epoch 42 of 50\n",
      "Epoch 43 of 50\n",
      "Epoch 44 of 50\n",
      "Epoch 45 of 50\n",
      "Epoch 46 of 50\n",
      "Epoch 47 of 50\n",
      "Epoch 48 of 50\n",
      "Epoch 49 of 50\n",
      "Epoch 50 of 50\n"
     ]
    }
   ],
   "source": [
    "train_losses, train_accuracies, test_losses, test_accuracies = train_model(model, train_loader, loss_func, opt, n_epochs=50)"
   ]
  },
  {
   "cell_type": "code",
   "execution_count": 161,
   "metadata": {},
   "outputs": [
    {
     "data": {
      "image/png": "[encoded data removed]",
      "text/plain": [
       "<Figure size 1000x400 with 2 Axes>"
      ]
     },
     "metadata": {},
     "output_type": "display_data"
    }
   ],
   "source": [
    "plt.figure(figsize=(10, 4))\n",
    "\n",
    "plt.subplot(1, 2, 1)\n",
    "plt.plot(train_losses, label='Train Loss')\n",
    "plt.plot(test_losses, label='Test Loss')\n",
    "plt.title('Loss')\n",
    "plt.xlabel('Epoch')\n",
    "plt.ylabel('Loss')\n",
    "plt.legend()\n",
    "\n",
    "plt.subplot(1, 2, 2)\n",
    "plt.plot(train_accuracies, label='Train Accuracy')\n",
    "plt.plot(test_accuracies, label='Test Accuracy')\n",
    "plt.title('Accuracy')\n",
    "plt.xlabel('Epoch')\n",
    "plt.ylabel('Accuracy')\n",
    "plt.legend()\n",
    "\n",
    "plt.show()"
   ]
  },
  {
   "cell_type": "markdown",
   "metadata": {
    "id": "dMui_uLJ7G0d"
   },
   "source": [
    "### Conclusions:\n",
    "_Write down small report with your conclusions and your ideas._\n",
    "\n",
    "Я ждал 20 минут, и переобучения действительно не происходит, ВАУ."
   ]
  }
 ],
 "metadata": {
  "accelerator": "GPU",
  "colab": {
   "name": "Overfit it.ipynb",
   "provenance": []
  },
  "kernelspec": {
   "display_name": "Python 3",
   "language": "python",
   "name": "python3"
  },
  "language_info": {
   "codemirror_mode": {
    "name": "ipython",
    "version": 3
   },
   "file_extension": ".py",
   "mimetype": "text/x-python",
   "name": "python",
   "nbconvert_exporter": "python",
   "pygments_lexer": "ipython3",
   "version": "3.9.7"
  }
 },
 "nbformat": 4,
 "nbformat_minor": 0
}
